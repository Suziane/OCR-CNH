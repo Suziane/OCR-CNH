{
  "cells": [
    {
      "cell_type": "code",
      "execution_count": null,
      "metadata": {
        "colab": {
          "base_uri": "https://localhost:8080/"
        },
        "id": "_RNmsQdsPZbu",
        "outputId": "4cc01c82-d547-4e33-f9bc-105a788ad9aa"
      },
      "outputs": [
        {
          "output_type": "stream",
          "name": "stdout",
          "text": [
            "Mounted at /content/drive\n"
          ]
        }
      ],
      "source": [
        "from google.colab import drive\n",
        "drive.mount('/content/drive')"
      ]
    },
    {
      "cell_type": "markdown",
      "metadata": {
        "id": "vd3TAfd8pVr0"
      },
      "source": [
        "# Create hypothesis"
      ]
    },
    {
      "cell_type": "code",
      "execution_count": null,
      "metadata": {
        "id": "ZlbdQF7Pyu6v"
      },
      "outputs": [],
      "source": [
        "import os\n",
        "import json\n",
        "from PIL import Image\n",
        "from transformers import TrOCRProcessor, VisionEncoderDecoderModel\n",
        "\n",
        "# Base folder where the subfolders with images are located\n",
        "base_folder = '/content/drive/MyDrive/cropped_images'\n",
        "\n",
        "# File path with the list of folders to be processed\n",
        "image_list_file = '/content/drive/MyDrive/dataset/test_files.txt'\n",
        "\n",
        "# Function to perform text recognition in an image\n",
        "def perform_ocr(image_path):\n",
        "    image = Image.open(image_path).convert(\"RGB\")\n",
        "    pixel_values = processor(images=image, return_tensors=\"pt\").pixel_values\n",
        "    generated_ids = model.generate(pixel_values)\n",
        "    generated_text = processor.batch_decode(generated_ids, skip_special_tokens=True)[0]\n",
        "    return generated_text\n",
        "\n",
        "# Initializing the model and the OCR process\n",
        "# Change the model between small, base and large\n",
        "processor = TrOCRProcessor.from_pretrained('microsoft/trocr-large-printed')\n",
        "model = VisionEncoderDecoderModel.from_pretrained('microsoft/trocr-large-printed')\n",
        "\n",
        "with open(image_list_file, 'r') as f:\n",
        "     folders_to_process = f.read().strip().split(',')\n",
        "     folders_to_process = [arquivo.strip() for arquivo in folders_to_process]\n",
        "\n",
        "\n",
        "for folder_name in os.listdir(base_folder):\n",
        "    if folder_name in folders_to_process:\n",
        "        folder_path = os.path.join(base_folder, folder_name)\n",
        "        if os.path.isdir(folder_path):\n",
        "            output_file = f'/content/drive/MyDrive/TR OCR Large/resultados/{folder_name}/hipotese.txt'\n",
        "            output_folder = os.path.dirname(output_file)\n",
        "\n",
        "            if not os.path.exists(output_folder):\n",
        "                os.makedirs(output_folder)\n",
        "\n",
        "            ocr_results = []\n",
        "\n",
        "            for filename in os.listdir(folder_path):\n",
        "                if filename.endswith(('.png', '.jpg', '.jpeg')):\n",
        "                    image_path = os.path.join(folder_path, filename)\n",
        "                    ocr_text = perform_ocr(image_path)\n",
        "                    ocr_results.append((filename.split('.')[0], ocr_text))\n",
        "                    print(f'OCR for {filename}: {ocr_text}')\n",
        "\n",
        "            with open(output_file, 'w') as txt_file:\n",
        "                for image_id, ocr_text in ocr_results:\n",
        "                    txt_file.write(f'{image_id} \"{ocr_text}\"\\n')\n",
        "\n",
        "            print(f'All results were saved in {output_file}')\n"
      ]
    }
  ],
  "metadata": {
    "colab": {
      "provenance": []
    },
    "kernelspec": {
      "display_name": "Python 3",
      "name": "python3"
    },
    "language_info": {
      "name": "python"
    }
  },
  "nbformat": 4,
  "nbformat_minor": 0
}