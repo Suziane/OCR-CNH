{
  "cells": [
    {
      "cell_type": "code",
      "execution_count": 1,
      "metadata": {
        "id": "f6EGkY4u1cCQ"
      },
      "outputs": [],
      "source": [
        "import os\n",
        "import cv2\n",
        "import argparse\n",
        "import numpy as np\n",
        "from skimage import io\n",
        "from google.colab.patches import cv2_imshow\n",
        "from PIL import Image\n"
      ]
    },
    {
      "cell_type": "code",
      "execution_count": null,
      "metadata": {
        "id": "py5czsMNkD28"
      },
      "outputs": [],
      "source": [
        "from google.colab import drive\n",
        "drive.mount('/content/gdrive/')"
      ]
    },
    {
      "cell_type": "markdown",
      "metadata": {
        "id": "8ynQN1llekTL"
      },
      "source": [
        "## Criando os Bboxes"
      ]
    },
    {
      "cell_type": "code",
      "source": [
        "list_ignored_labels = [\n",
        "    'NOME', 'CPF', 'PERMISSÃO', 'ACC', 'CAT. HAB.',\n",
        "    '1ª HABILITAÇÃO', 'VALIDADE', 'Nº REGISTRO', 'VÁLIDA EM TODO', 'DATA NASCIMENTO',\n",
        "    'DOC. IDENTIDADE/ÓRG EMISSOR/UF', 'DOC. IDENTIDADE/ÓRG EMISSOR UF', 'DOC IDENTIDADE/ÓRG EMISSOR/UF', 'FILIAÇÃO'\n",
        "]\n",
        "\n",
        "def checkClass(name):\n",
        "    if name == '1ª HABILITAÇÃO':\n",
        "        return 0\n",
        "    elif name == 'CAT. HAB.':\n",
        "        return 1\n",
        "    elif name == 'CPF':\n",
        "        return 2\n",
        "    elif name == 'DATA NASCIMENTO':\n",
        "        return 3\n",
        "    elif name == 'DOC. IDENTIDADE/ÓRG EMISSOR/UF' or name == 'DOC. IDENTIDADE/ÓRG EMISSOR UF' or name == 'DOC IDENTIDADE/ÓRG EMISSOR/UF':\n",
        "        return 4\n",
        "    elif name == 'FILIAÇÃO':\n",
        "        return 5\n",
        "    elif name == 'Nº REGISTRO':\n",
        "        return 6\n",
        "    elif name == 'NOME':\n",
        "        return 7\n",
        "    elif name == 'VALIDADE':\n",
        "        return 8\n",
        "    elif name == 'VÁLIDA EM TODO':\n",
        "        return 9\n",
        "    elif name == 'PERMISSÃO':\n",
        "        return 10\n",
        "    elif name == 'ACC':\n",
        "        return 11\n",
        "    else:\n",
        "        return -1\n",
        "\n",
        "def read_coordinates_gt(filename):\n",
        "    coordinates = []\n",
        "\n",
        "    with open(filename, 'r', encoding='utf-8') as file:\n",
        "        for line in file:\n",
        "            parts = line.strip().split(',', 4)\n",
        "            if len(parts) == 5:\n",
        "                try:\n",
        "                    x, y, width, height = map(int, parts[:4])\n",
        "                    label = parts[4].strip()\n",
        "                    coordinates.append((x, y, width, height, label))\n",
        "                except ValueError:\n",
        "                    print(f\"Error processing line: {line.strip()}\")\n",
        "\n",
        "    return coordinates\n",
        "\n",
        "def crop_images(image_path, coordinates, code, output_dir):\n",
        "    print(code)\n",
        "    image = Image.open(image_path)\n",
        "    code_output_dir = os.path.join(output_dir, code)\n",
        "    os.makedirs(code_output_dir, exist_ok=True)\n",
        "\n",
        "    last_ignored_label = None\n",
        "    label_counters = {}\n",
        "    permission_quantity = 0\n",
        "\n",
        "    for coordinate in coordinates:\n",
        "        x, y, w, h, label = coordinate\n",
        "\n",
        "        if label in list_ignored_labels:\n",
        "            if label != 'PERMISSÃO':\n",
        "              last_ignored_label = label\n",
        "              continue\n",
        "            else:\n",
        "              permission_quantity = permission_quantity + 1\n",
        "              if permission_quantity == 1:\n",
        "                last_ignored_label = label\n",
        "                continue\n",
        "\n",
        "\n",
        "        label_id = checkClass(last_ignored_label)\n",
        "        if label_id == -1:\n",
        "            continue\n",
        "\n",
        "        if label_id not in label_counters:\n",
        "            label_counters[label_id] = 1\n",
        "        else:\n",
        "            label_counters[label_id] += 1\n",
        "\n",
        "        current_counter = label_counters[label_id]\n",
        "        file_name = f'{label_id}.{current_counter}.jpg'\n",
        "\n",
        "        left = max(x - 5, 0)\n",
        "        top = max(y - 2, 0)\n",
        "        right = x + w + 2\n",
        "        bottom = y + h + 2\n",
        "\n",
        "        cropped_image = image.crop((left, top, right, bottom))\n",
        "        if label_id == 9:\n",
        "            cropped_image = cropped_image.rotate(270, expand=True)\n",
        "        print(f\"Save image: {file_name}\")\n",
        "        cropped_image.save(os.path.join(code_output_dir, f'{file_name}'))\n",
        "\n",
        "folder_path = '/content/gdrive/MyDrive/BD/BID Dataset/CNH_Frente'\n",
        "\n",
        "new_gt = '/content/gdrive/MyDrive/news_gt'\n",
        "\n",
        "output_dir = '/content/gdrive/MyDrive/cropped_images'\n",
        "\n",
        "image_files = [f for f in os.listdir(folder_path) if f.endswith('.jpg') and '_gt_segmentation' not in f]\n",
        "\n",
        "for image_file in image_files:\n",
        "    image_path = os.path.join(folder_path, image_file)\n",
        "    image_code = os.path.splitext(image_file)[0].replace('_in', '')\n",
        "    gt_file = os.path.join(new_gt, f\"{image_code}_gt_ocr.txt\")\n",
        "    coordinates = read_coordinates_gt(gt_file)\n",
        "    crop_images(image_path, coordinates, image_code, output_dir)"
      ],
      "metadata": {
        "id": "AtyjXjVhsPDS"
      },
      "execution_count": null,
      "outputs": []
    }
  ],
  "metadata": {
    "colab": {
      "provenance": []
    },
    "kernelspec": {
      "display_name": "Python 3",
      "name": "python3"
    },
    "language_info": {
      "name": "python"
    }
  },
  "nbformat": 4,
  "nbformat_minor": 0
}