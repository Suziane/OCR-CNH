{
  "nbformat": 4,
  "nbformat_minor": 0,
  "metadata": {
    "colab": {
      "provenance": []
    },
    "kernelspec": {
      "name": "python3",
      "display_name": "Python 3"
    },
    "language_info": {
      "name": "python"
    }
  },
  "cells": [
    {
      "cell_type": "code",
      "source": [
        "!sudo apt-get install tesseract-ocr\n",
        "!pip install pytesseract"
      ],
      "metadata": {
        "id": "15gfS-BhfUxk"
      },
      "execution_count": null,
      "outputs": []
    },
    {
      "cell_type": "code",
      "source": [
        "!tesseract --version\n",
        "!tesseract --help-psm\n"
      ],
      "metadata": {
        "id": "F4tG7gHQgIMr"
      },
      "execution_count": null,
      "outputs": []
    },
    {
      "cell_type": "code",
      "source": [
        "!sudo apt-get install -y tesseract-ocr-por\n"
      ],
      "metadata": {
        "colab": {
          "base_uri": "https://localhost:8080/"
        },
        "id": "pCujiUHx9HP8",
        "outputId": "491245c5-b827-4ff9-a152-99f5ef7a9b49"
      },
      "execution_count": null,
      "outputs": [
        {
          "output_type": "stream",
          "name": "stdout",
          "text": [
            "Reading package lists... Done\n",
            "Building dependency tree... Done\n",
            "Reading state information... Done\n",
            "The following NEW packages will be installed:\n",
            "  tesseract-ocr-por\n",
            "0 upgraded, 1 newly installed, 0 to remove and 49 not upgraded.\n",
            "Need to get 856 kB of archives.\n",
            "After this operation, 1,998 kB of additional disk space will be used.\n",
            "Get:1 http://archive.ubuntu.com/ubuntu jammy/universe amd64 tesseract-ocr-por all 1:4.00~git30-7274cfa-1.1 [856 kB]\n",
            "Fetched 856 kB in 1s (788 kB/s)\n",
            "debconf: unable to initialize frontend: Dialog\n",
            "debconf: (No usable dialog-like program is installed, so the dialog based frontend cannot be used. at /usr/share/perl5/Debconf/FrontEnd/Dialog.pm line 78, <> line 1.)\n",
            "debconf: falling back to frontend: Readline\n",
            "debconf: unable to initialize frontend: Readline\n",
            "debconf: (This frontend requires a controlling tty.)\n",
            "debconf: falling back to frontend: Teletype\n",
            "dpkg-preconfigure: unable to re-open stdin: \n",
            "Selecting previously unselected package tesseract-ocr-por.\n",
            "(Reading database ... 123670 files and directories currently installed.)\n",
            "Preparing to unpack .../tesseract-ocr-por_1%3a4.00~git30-7274cfa-1.1_all.deb ...\n",
            "Unpacking tesseract-ocr-por (1:4.00~git30-7274cfa-1.1) ...\n",
            "Setting up tesseract-ocr-por (1:4.00~git30-7274cfa-1.1) ...\n"
          ]
        }
      ]
    },
    {
      "cell_type": "code",
      "source": [
        "!tesseract --list-langs\n"
      ],
      "metadata": {
        "colab": {
          "base_uri": "https://localhost:8080/"
        },
        "id": "ZwzZmgiQ9L8l",
        "outputId": "2933e95e-eaca-4c89-b7d4-0e5286b8d4f5"
      },
      "execution_count": null,
      "outputs": [
        {
          "output_type": "stream",
          "name": "stdout",
          "text": [
            "List of available languages (3):\n",
            "eng\n",
            "osd\n",
            "por\n"
          ]
        }
      ]
    },
    {
      "cell_type": "code",
      "source": [
        "from google.colab import drive\n",
        "drive.mount('/content/drive/')"
      ],
      "metadata": {
        "colab": {
          "base_uri": "https://localhost:8080/"
        },
        "id": "8VntiWGK61hH",
        "outputId": "bdb591ef-8226-4eb8-f979-6c0d1e13f94c"
      },
      "execution_count": null,
      "outputs": [
        {
          "output_type": "stream",
          "name": "stdout",
          "text": [
            "Mounted at /content/drive/\n"
          ]
        }
      ]
    },
    {
      "cell_type": "markdown",
      "source": [
        "# Create hypothesis"
      ],
      "metadata": {
        "id": "F34aFgJIWVhX"
      }
    },
    {
      "cell_type": "code",
      "source": [
        "import os\n",
        "import cv2\n",
        "import pytesseract\n",
        "import matplotlib.pyplot as plt\n",
        "\n",
        "# Base folder where the subfolders with images are located\n",
        "base_folder = '/content/drive/MyDrive/cropped_images'\n",
        "\n",
        "# File path with the list of folders to be processed\n",
        "image_list_file = '/content/drive/MyDrive/dataset/test_files.txt'\n",
        "\n",
        "\n",
        "config = r'--oem 3 --psm 7'\n",
        "\n",
        "# Function to perform text recognition in an image\n",
        "def perform_ocr(image_path):\n",
        "    img = cv2.imread(image_path)\n",
        "    img = cv2.cvtColor(img, cv2.COLOR_BGR2GRAY)\n",
        "    text = pytesseract.image_to_string(img, lang=\"por\", config=config)\n",
        "    text = text.replace(\"\\n\", \"\").replace(\"\\x0c\", \"\").replace(\"\\u2014\", \"\")\n",
        "    return text, img\n",
        "\n",
        "with open(image_list_file, 'r') as f:\n",
        "    folders_to_process = f.read().strip().split(',')\n",
        "    folders_to_process = [arquivo.strip() for arquivo in folders_to_process]\n",
        "\n",
        "for folder_name in os.listdir(base_folder):\n",
        "    if folder_name in folders_to_process:\n",
        "        folder_path = os.path.join(base_folder, folder_name)\n",
        "        if os.path.isdir(folder_path):\n",
        "            output_file = f'/content/drive/MyDrive/Tesseract/resultados/{folder_name}/hipotese.txt'\n",
        "            output_folder = os.path.dirname(output_file)\n",
        "\n",
        "            if not os.path.exists(output_folder):\n",
        "                os.makedirs(output_folder)\n",
        "\n",
        "            ocr_results = []\n",
        "\n",
        "            for filename in os.listdir(folder_path):\n",
        "                if filename.endswith(('.png', '.jpg', '.jpeg')):\n",
        "                    image_path = os.path.join(folder_path, filename)\n",
        "                    ocr_text, image = perform_ocr(image_path)\n",
        "                    ocr_results.append((filename.split('.')[0], ocr_text))\n",
        "\n",
        "            with open(output_file, 'w') as txt_file:\n",
        "                for image_id, ocr_text in ocr_results:\n",
        "                    txt_file.write(f'{image_id} \"{ocr_text}\"\\n')\n",
        "\n",
        "            print(f'All results were saved in {output_file}')\n"
      ],
      "metadata": {
        "id": "T0rS03wl4Tw0"
      },
      "execution_count": null,
      "outputs": []
    }
  ]
}